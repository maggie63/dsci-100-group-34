{
 "cells": [
  {
   "cell_type": "markdown",
   "id": "767ff1cd-8d2a-4b56-9b08-b840aba1d50a",
   "metadata": {},
   "source": [
    "<font size=\"5\">**Finding the Influence of Maximum Heart Rate and ST Depression on Heart Disease**</font>\n",
    "<font size=\"3\">*Prepared by Group 34: Felix Chan, Danielle De Martin, Avneet Kaur, Maggie Wang*</font>\n",
    "\n",
    "<font size=\"3\">**Introduction**</font>\n",
    "\n",
    "The topic that we will be investigating is heart disease. The term “heart disease” refers to several types of heart conditions that affect the structure and the function of the heart, each with different root causes. Our analysis will not discriminate between the different types of heart disease, instead we will focus on the presence of heart diseases in general in correlation to attributes including maximum heart rate and ST depression.\n",
    "\n",
    "The question we will be trying to answer is: Given an individual’s maximum heart rate and ST depression, do they have heart disease?\n",
    "The dataset we will be using is from 1988 and contains 76 attributes in databases from patients in Cleveland, Hungary, Switzerland, and Long Beach V. However, all published experiments only use 14 of the attributes. To answer our question, we will be using 4 attributes to predict the presence of heart disease: age, cholesterol levels, and blood pressure. A person’s serum cholesterol (mg/dl) refers to the total amount of cholesterol in their blood. People diagnosed with heart disease (1) have >50% diameter narrowing in any of their major blood vessels, while people not diagnosed with heart disease (0) have <50% diameter narrowing in any of their major blood vessels. Blood pressure is measured as resting blood pressure (mm Hg)."
   ]
  },
  {
   "cell_type": "markdown",
   "id": "a367c7ee-fa59-4fbe-bcec-c24165603be3",
   "metadata": {},
   "source": [
    "<font size=\"3\">**Method**</font>"
   ]
  },
  {
   "cell_type": "markdown",
   "id": "b39bf48e-2b29-4076-82af-cbd6287f5651",
   "metadata": {},
   "source": [
    "<font size=\"3\">**Results**</font>"
   ]
  },
  {
   "cell_type": "code",
   "execution_count": 2,
   "id": "47e52852-3f44-42f8-adfa-795141acacb4",
   "metadata": {},
   "outputs": [
    {
     "name": "stderr",
     "output_type": "stream",
     "text": [
      "── \u001b[1mAttaching packages\u001b[22m ─────────────────────────────────────── tidyverse 1.3.1 ──\n",
      "\n",
      "\u001b[32m✔\u001b[39m \u001b[34mggplot2\u001b[39m 3.3.6     \u001b[32m✔\u001b[39m \u001b[34mpurrr  \u001b[39m 0.3.4\n",
      "\u001b[32m✔\u001b[39m \u001b[34mtibble \u001b[39m 3.1.7     \u001b[32m✔\u001b[39m \u001b[34mdplyr  \u001b[39m 1.0.9\n",
      "\u001b[32m✔\u001b[39m \u001b[34mtidyr  \u001b[39m 1.2.0     \u001b[32m✔\u001b[39m \u001b[34mstringr\u001b[39m 1.4.0\n",
      "\u001b[32m✔\u001b[39m \u001b[34mreadr  \u001b[39m 2.1.2     \u001b[32m✔\u001b[39m \u001b[34mforcats\u001b[39m 0.5.1\n",
      "\n",
      "── \u001b[1mConflicts\u001b[22m ────────────────────────────────────────── tidyverse_conflicts() ──\n",
      "\u001b[31m✖\u001b[39m \u001b[34mdplyr\u001b[39m::\u001b[32mfilter()\u001b[39m masks \u001b[34mstats\u001b[39m::filter()\n",
      "\u001b[31m✖\u001b[39m \u001b[34mdplyr\u001b[39m::\u001b[32mlag()\u001b[39m    masks \u001b[34mstats\u001b[39m::lag()\n",
      "\n",
      "── \u001b[1mAttaching packages\u001b[22m ────────────────────────────────────── tidymodels 1.0.0 ──\n",
      "\n",
      "\u001b[32m✔\u001b[39m \u001b[34mbroom       \u001b[39m 1.0.0     \u001b[32m✔\u001b[39m \u001b[34mrsample     \u001b[39m 1.0.0\n",
      "\u001b[32m✔\u001b[39m \u001b[34mdials       \u001b[39m 1.0.0     \u001b[32m✔\u001b[39m \u001b[34mtune        \u001b[39m 1.0.0\n",
      "\u001b[32m✔\u001b[39m \u001b[34minfer       \u001b[39m 1.0.2     \u001b[32m✔\u001b[39m \u001b[34mworkflows   \u001b[39m 1.0.0\n",
      "\u001b[32m✔\u001b[39m \u001b[34mmodeldata   \u001b[39m 1.0.0     \u001b[32m✔\u001b[39m \u001b[34mworkflowsets\u001b[39m 1.0.0\n",
      "\u001b[32m✔\u001b[39m \u001b[34mparsnip     \u001b[39m 1.0.0     \u001b[32m✔\u001b[39m \u001b[34myardstick   \u001b[39m 1.0.0\n",
      "\u001b[32m✔\u001b[39m \u001b[34mrecipes     \u001b[39m 1.0.1     \n",
      "\n",
      "── \u001b[1mConflicts\u001b[22m ───────────────────────────────────────── tidymodels_conflicts() ──\n",
      "\u001b[31m✖\u001b[39m \u001b[34mscales\u001b[39m::\u001b[32mdiscard()\u001b[39m masks \u001b[34mpurrr\u001b[39m::discard()\n",
      "\u001b[31m✖\u001b[39m \u001b[34mdplyr\u001b[39m::\u001b[32mfilter()\u001b[39m   masks \u001b[34mstats\u001b[39m::filter()\n",
      "\u001b[31m✖\u001b[39m \u001b[34mrecipes\u001b[39m::\u001b[32mfixed()\u001b[39m  masks \u001b[34mstringr\u001b[39m::fixed()\n",
      "\u001b[31m✖\u001b[39m \u001b[34mdplyr\u001b[39m::\u001b[32mlag()\u001b[39m      masks \u001b[34mstats\u001b[39m::lag()\n",
      "\u001b[31m✖\u001b[39m \u001b[34myardstick\u001b[39m::\u001b[32mspec()\u001b[39m masks \u001b[34mreadr\u001b[39m::spec()\n",
      "\u001b[31m✖\u001b[39m \u001b[34mrecipes\u001b[39m::\u001b[32mstep()\u001b[39m   masks \u001b[34mstats\u001b[39m::step()\n",
      "\u001b[34m•\u001b[39m Dig deeper into tidy modeling with R at \u001b[32mhttps://www.tmwr.org\u001b[39m\n",
      "\n"
     ]
    }
   ],
   "source": [
    "# Loading all the required libraries\n",
    "library(tidyverse)\n",
    "library(repr)\n",
    "library(tidymodels)\n",
    "library(dplyr)\n",
    "library(patchwork)"
   ]
  },
  {
   "cell_type": "code",
   "execution_count": 3,
   "id": "f89dcb97-91b5-479c-88d7-96688da34c2b",
   "metadata": {},
   "outputs": [
    {
     "name": "stderr",
     "output_type": "stream",
     "text": [
      "\u001b[1mRows: \u001b[22m\u001b[34m1025\u001b[39m \u001b[1mColumns: \u001b[22m\u001b[34m14\u001b[39m\n",
      "\u001b[36m──\u001b[39m \u001b[1mColumn specification\u001b[22m \u001b[36m────────────────────────────────────────────────────────\u001b[39m\n",
      "\u001b[1mDelimiter:\u001b[22m \",\"\n",
      "\u001b[32mdbl\u001b[39m (14): age, sex, cp, trestbps, chol, fbs, restecg, thalach, exang, oldpea...\n",
      "\n",
      "\u001b[36mℹ\u001b[39m Use `spec()` to retrieve the full column specification for this data.\n",
      "\u001b[36mℹ\u001b[39m Specify the column types or set `show_col_types = FALSE` to quiet this message.\n"
     ]
    },
    {
     "data": {
      "text/html": [
       "<table class=\"dataframe\">\n",
       "<caption>A tibble: 6 × 3</caption>\n",
       "<thead>\n",
       "\t<tr><th scope=col>target</th><th scope=col>thalach</th><th scope=col>oldpeak</th></tr>\n",
       "\t<tr><th scope=col>&lt;fct&gt;</th><th scope=col>&lt;dbl&gt;</th><th scope=col>&lt;dbl&gt;</th></tr>\n",
       "</thead>\n",
       "<tbody>\n",
       "\t<tr><td>0</td><td>168</td><td>1.0</td></tr>\n",
       "\t<tr><td>0</td><td>155</td><td>3.1</td></tr>\n",
       "\t<tr><td>0</td><td>125</td><td>2.6</td></tr>\n",
       "\t<tr><td>0</td><td>161</td><td>0.0</td></tr>\n",
       "\t<tr><td>0</td><td>106</td><td>1.9</td></tr>\n",
       "\t<tr><td>1</td><td>122</td><td>1.0</td></tr>\n",
       "</tbody>\n",
       "</table>\n"
      ],
      "text/latex": [
       "A tibble: 6 × 3\n",
       "\\begin{tabular}{lll}\n",
       " target & thalach & oldpeak\\\\\n",
       " <fct> & <dbl> & <dbl>\\\\\n",
       "\\hline\n",
       "\t 0 & 168 & 1.0\\\\\n",
       "\t 0 & 155 & 3.1\\\\\n",
       "\t 0 & 125 & 2.6\\\\\n",
       "\t 0 & 161 & 0.0\\\\\n",
       "\t 0 & 106 & 1.9\\\\\n",
       "\t 1 & 122 & 1.0\\\\\n",
       "\\end{tabular}\n"
      ],
      "text/markdown": [
       "\n",
       "A tibble: 6 × 3\n",
       "\n",
       "| target &lt;fct&gt; | thalach &lt;dbl&gt; | oldpeak &lt;dbl&gt; |\n",
       "|---|---|---|\n",
       "| 0 | 168 | 1.0 |\n",
       "| 0 | 155 | 3.1 |\n",
       "| 0 | 125 | 2.6 |\n",
       "| 0 | 161 | 0.0 |\n",
       "| 0 | 106 | 1.9 |\n",
       "| 1 | 122 | 1.0 |\n",
       "\n"
      ],
      "text/plain": [
       "  target thalach oldpeak\n",
       "1 0      168     1.0    \n",
       "2 0      155     3.1    \n",
       "3 0      125     2.6    \n",
       "4 0      161     0.0    \n",
       "5 0      106     1.9    \n",
       "6 1      122     1.0    "
      ]
     },
     "metadata": {},
     "output_type": "display_data"
    }
   ],
   "source": [
    "# Reading dataframe from the internet and storing it to a variable\n",
    "heart_disease <- read_csv(\"https://raw.githubusercontent.com/maggie63/dsci-100-group-34/main/data/heart.csv\") |>\n",
    "    mutate(target = as_factor(target)) |>\n",
    "    select(target, thalach, oldpeak)\n",
    "\n",
    "# Printing the first few rows of the dataframe\n",
    "head(heart_disease)"
   ]
  },
  {
   "cell_type": "code",
   "execution_count": 4,
   "id": "7dd3ecf8-fa99-4249-84c5-2d03a7943e0e",
   "metadata": {},
   "outputs": [],
   "source": [
    "# Setting the seed\n",
    "set.seed(1234)\n",
    "\n",
    "# Splitting the data (75/25 training/testing split)\n",
    "heart_split <- initial_split(heart_disease, prop = 0.75, strata = target)\n",
    "heart_training <- training(heart_split)\n",
    "heart_testing <- testing(heart_split)"
   ]
  },
  {
   "cell_type": "code",
   "execution_count": 7,
   "id": "2ca85882-c81c-4864-bf86-7f1d6ee69dc9",
   "metadata": {},
   "outputs": [
    {
     "data": {
      "image/png": "[encoded data removed]",
      "text/plain": [
       "plot without title"
      ]
     },
     "metadata": {
      "image/png": {
       "height": 300,
       "width": 360
      }
     },
     "output_type": "display_data"
    }
   ],
   "source": [
    "# Setting up\n",
    "set.seed(567) \n",
    "options(repr.plot.height = 5, repr.plot.width = 6)\n",
    "\n",
    "# Creating a model specification with tuning on the number of neighbours\n",
    "knn_spec <- nearest_neighbor(weight_func = \"rectangular\", neighbors = tune()) |>\n",
    "        set_engine(\"kknn\") |>\n",
    "        set_mode(\"classification\")\n",
    "\n",
    "# Recipe uses thalach and oldpeak to predict target - no heart disease (0), heart disease (1)\n",
    "recipe <- recipe(target ~ thalach + oldpeak, data = heart_training) |>\n",
    "    step_scale(all_predictors()) |>\n",
    "    step_center(all_predictors())\n",
    "\n",
    "# Testing k values from 1 to 10\n",
    "k_vals <- tibble(neighbors = seq(1:5))\n",
    "\n",
    "# Performing a 5-fold cross-validation on the training set\n",
    "vfold <- vfold_cv(heart_training, v = 5, strata = target)\n",
    "\n",
    "# Creating a workflow analysis with recipe and model specification and collecting metrics\n",
    "knn_results <- workflow() |>\n",
    "      add_recipe(recipe) |>\n",
    "      add_model(knn_spec) |>\n",
    "      tune_grid(resamples = vfold, grid = k_vals) |>\n",
    "      collect_metrics()\n",
    "\n",
    "# Collecting the accuracies from the workflow analysis\n",
    "accuracies <- knn_results |> \n",
    "      filter(.metric == \"accuracy\")\n",
    "\n",
    "# Plotting k vs accuracy\n",
    "cross_val_plot <- ggplot(accuracies, aes(x = neighbors, y = mean))+\n",
    "      geom_point() +\n",
    "      geom_line() +\n",
    "      scale_x_continuous(breaks = seq(0, 14, by = 1)) +  # adjusting the x-axis\n",
    "      labs(x = \"Neighbors\", y = \"Accuracy Estimate\")\n",
    "cross_val_plot"
   ]
  },
  {
   "cell_type": "code",
   "execution_count": 10,
   "id": "4225ae68-2574-4f19-87f1-6d7a149e7f80",
   "metadata": {},
   "outputs": [
    {
     "data": {
      "text/html": [
       "<table class=\"dataframe\">\n",
       "<caption>A tibble: 6 × 4</caption>\n",
       "<thead>\n",
       "\t<tr><th scope=col>.pred_class</th><th scope=col>target</th><th scope=col>thalach</th><th scope=col>oldpeak</th></tr>\n",
       "\t<tr><th scope=col>&lt;fct&gt;</th><th scope=col>&lt;fct&gt;</th><th scope=col>&lt;dbl&gt;</th><th scope=col>&lt;dbl&gt;</th></tr>\n",
       "</thead>\n",
       "<tbody>\n",
       "\t<tr><td>0</td><td>0</td><td>168</td><td>1.0</td></tr>\n",
       "\t<tr><td>0</td><td>0</td><td>106</td><td>1.9</td></tr>\n",
       "\t<tr><td>0</td><td>0</td><td>145</td><td>0.8</td></tr>\n",
       "\t<tr><td>0</td><td>0</td><td>144</td><td>0.8</td></tr>\n",
       "\t<tr><td>0</td><td>0</td><td>116</td><td>3.2</td></tr>\n",
       "\t<tr><td>0</td><td>0</td><td>122</td><td>4.2</td></tr>\n",
       "</tbody>\n",
       "</table>\n"
      ],
      "text/latex": [
       "A tibble: 6 × 4\n",
       "\\begin{tabular}{llll}\n",
       " .pred\\_class & target & thalach & oldpeak\\\\\n",
       " <fct> & <fct> & <dbl> & <dbl>\\\\\n",
       "\\hline\n",
       "\t 0 & 0 & 168 & 1.0\\\\\n",
       "\t 0 & 0 & 106 & 1.9\\\\\n",
       "\t 0 & 0 & 145 & 0.8\\\\\n",
       "\t 0 & 0 & 144 & 0.8\\\\\n",
       "\t 0 & 0 & 116 & 3.2\\\\\n",
       "\t 0 & 0 & 122 & 4.2\\\\\n",
       "\\end{tabular}\n"
      ],
      "text/markdown": [
       "\n",
       "A tibble: 6 × 4\n",
       "\n",
       "| .pred_class &lt;fct&gt; | target &lt;fct&gt; | thalach &lt;dbl&gt; | oldpeak &lt;dbl&gt; |\n",
       "|---|---|---|---|\n",
       "| 0 | 0 | 168 | 1.0 |\n",
       "| 0 | 0 | 106 | 1.9 |\n",
       "| 0 | 0 | 145 | 0.8 |\n",
       "| 0 | 0 | 144 | 0.8 |\n",
       "| 0 | 0 | 116 | 3.2 |\n",
       "| 0 | 0 | 122 | 4.2 |\n",
       "\n"
      ],
      "text/plain": [
       "  .pred_class target thalach oldpeak\n",
       "1 0           0      168     1.0    \n",
       "2 0           0      106     1.9    \n",
       "3 0           0      145     0.8    \n",
       "4 0           0      144     0.8    \n",
       "5 0           0      116     3.2    \n",
       "6 0           0      122     4.2    "
      ]
     },
     "metadata": {},
     "output_type": "display_data"
    },
    {
     "data": {
      "text/html": [
       "<table class=\"dataframe\">\n",
       "<caption>A tibble: 2 × 3</caption>\n",
       "<thead>\n",
       "\t<tr><th scope=col>.metric</th><th scope=col>.estimator</th><th scope=col>.estimate</th></tr>\n",
       "\t<tr><th scope=col>&lt;chr&gt;</th><th scope=col>&lt;chr&gt;</th><th scope=col>&lt;dbl&gt;</th></tr>\n",
       "</thead>\n",
       "<tbody>\n",
       "\t<tr><td>accuracy</td><td>binary</td><td>0.8871595</td></tr>\n",
       "\t<tr><td>kap     </td><td>binary</td><td>0.7755323</td></tr>\n",
       "</tbody>\n",
       "</table>\n"
      ],
      "text/latex": [
       "A tibble: 2 × 3\n",
       "\\begin{tabular}{lll}\n",
       " .metric & .estimator & .estimate\\\\\n",
       " <chr> & <chr> & <dbl>\\\\\n",
       "\\hline\n",
       "\t accuracy & binary & 0.8871595\\\\\n",
       "\t kap      & binary & 0.7755323\\\\\n",
       "\\end{tabular}\n"
      ],
      "text/markdown": [
       "\n",
       "A tibble: 2 × 3\n",
       "\n",
       "| .metric &lt;chr&gt; | .estimator &lt;chr&gt; | .estimate &lt;dbl&gt; |\n",
       "|---|---|---|\n",
       "| accuracy | binary | 0.8871595 |\n",
       "| kap      | binary | 0.7755323 |\n",
       "\n"
      ],
      "text/plain": [
       "  .metric  .estimator .estimate\n",
       "1 accuracy binary     0.8871595\n",
       "2 kap      binary     0.7755323"
      ]
     },
     "metadata": {},
     "output_type": "display_data"
    },
    {
     "data": {
      "text/plain": [
       "          Truth\n",
       "Prediction   0   1\n",
       "         0 125  29\n",
       "         1   0 103"
      ]
     },
     "metadata": {},
     "output_type": "display_data"
    }
   ],
   "source": [
    "# Creating a final model using k = 2\n",
    "final_spec <- nearest_neighbor(weight_func = \"rectangular\", neighbors = 2) |>\n",
    "        set_engine(\"kknn\") |>\n",
    "        set_mode(\"classification\")\n",
    "final_fit <- workflow() |>\n",
    "      add_recipe(recipe) |>\n",
    "      add_model(final_spec) |>\n",
    "      fit(data = heart_training)\n",
    "\n",
    "# Using model to predict on testing dataset\n",
    "heart_predictions <- predict(final_fit , heart_testing) |>\n",
    "      bind_cols(heart_testing)\n",
    "head(heart_predictions)\n",
    "\n",
    "# Accuracy of prediction\n",
    "heart_metrics <- heart_predictions |>\n",
    "        metrics(truth = target, estimate = .pred_class)\n",
    "heart_metrics\n",
    "\n",
    "#Creating a confusion matrix\n",
    "heart_conf_mat <- heart_predictions |> \n",
    "      conf_mat(truth = target, estimate = .pred_class)\n",
    "heart_conf_mat"
   ]
  },
  {
   "cell_type": "markdown",
   "id": "99d90f5f-315e-4a19-9710-f4d102265d26",
   "metadata": {},
   "source": [
    "<font size=\"3\">**Discussion**</font>"
   ]
  },
  {
   "cell_type": "markdown",
   "id": "d7d7e932-070f-4edc-88aa-2132f3128da3",
   "metadata": {},
   "source": [
    "<font size=\"3\">**References**</font>"
   ]
  }
 ],
 "metadata": {
  "kernelspec": {
   "display_name": "R",
   "language": "R",
   "name": "ir"
  },
  "language_info": {
   "codemirror_mode": "r",
   "file_extension": ".r",
   "mimetype": "text/x-r-source",
   "name": "R",
   "pygments_lexer": "r",
   "version": "4.1.3"
  }
 },
 "nbformat": 4,
 "nbformat_minor": 5
}
